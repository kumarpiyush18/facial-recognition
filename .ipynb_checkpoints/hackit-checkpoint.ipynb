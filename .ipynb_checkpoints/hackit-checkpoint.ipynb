{
 "cells": [
  {
   "cell_type": "code",
   "execution_count": null,
   "id": "c880e521-a17e-4021-b086-0c9f9554f2dc",
   "metadata": {},
   "outputs": [],
   "source": [
    "import numpy as np\n",
    "\n",
    "import os\n",
    "os.environ['TF_CPP_MIN_LOG_LEVEL']='2'\n",
    "from sklearn.preprocessing import LabelEncoder\n",
    "import pickle\n",
    "import cv2\n",
    "from mtcnn.mtcnn import MTCNN\n",
    "from keras_facenet import FaceNet\n",
    "from sklearn.model_selection import train_test_split\n",
    "from sklearn.preprocessing import LabelEncoder\n",
    "from sklearn.metrics import accuracy_score\n",
    "from sklearn.svm import SVC"
   ]
  },
  {
   "cell_type": "code",
   "execution_count": 3,
   "id": "cd7b180d-5977-4776-9ab8-f7d3c8e21547",
   "metadata": {},
   "outputs": [
    {
     "name": "stdout",
     "output_type": "stream",
     "text": [
      "Requirement already satisfied: scikit-learn in c:\\python311\\lib\\site-packages (1.4.0)\n",
      "Requirement already satisfied: numpy<2.0,>=1.19.5 in c:\\python311\\lib\\site-packages (from scikit-learn) (1.26.1)\n",
      "Requirement already satisfied: scipy>=1.6.0 in c:\\python311\\lib\\site-packages (from scikit-learn) (1.12.0)\n",
      "Requirement already satisfied: joblib>=1.2.0 in c:\\python311\\lib\\site-packages (from scikit-learn) (1.3.2)\n",
      "Requirement already satisfied: threadpoolctl>=2.0.0 in c:\\python311\\lib\\site-packages (from scikit-learn) (3.2.0)\n"
     ]
    },
    {
     "name": "stderr",
     "output_type": "stream",
     "text": [
      "\n",
      "[notice] A new release of pip is available: 23.1.2 -> 23.3.2\n",
      "[notice] To update, run: python.exe -m pip install --upgrade pip\n"
     ]
    },
    {
     "name": "stdout",
     "output_type": "stream",
     "text": [
      "Collecting mtcnn\n",
      "  Using cached mtcnn-0.1.1-py3-none-any.whl (2.3 MB)\n",
      "Collecting keras>=2.0.0 (from mtcnn)\n",
      "  Downloading keras-3.0.4-py3-none-any.whl (1.0 MB)\n",
      "                                              0.0/1.0 MB ? eta -:--:--\n",
      "     -----------------------                  0.6/1.0 MB 12.6 MB/s eta 0:00:01\n",
      "     ---------------------------------------- 1.0/1.0 MB 12.9 MB/s eta 0:00:00\n",
      "Collecting opencv-python>=4.1.0 (from mtcnn)\n",
      "  Using cached opencv_python-4.9.0.80-cp37-abi3-win_amd64.whl (38.6 MB)\n",
      "Collecting absl-py (from keras>=2.0.0->mtcnn)\n",
      "  Using cached absl_py-2.1.0-py3-none-any.whl (133 kB)\n",
      "Requirement already satisfied: numpy in c:\\python311\\lib\\site-packages (from keras>=2.0.0->mtcnn) (1.26.1)\n",
      "Collecting rich (from keras>=2.0.0->mtcnn)\n",
      "  Downloading rich-13.7.0-py3-none-any.whl (240 kB)\n",
      "                                              0.0/240.6 kB ? eta -:--:--\n",
      "     ------------------------------------- 240.6/240.6 kB 15.4 MB/s eta 0:00:00\n",
      "Collecting namex (from keras>=2.0.0->mtcnn)\n",
      "  Downloading namex-0.0.7-py3-none-any.whl (5.8 kB)\n",
      "Collecting h5py (from keras>=2.0.0->mtcnn)\n",
      "  Using cached h5py-3.10.0-cp311-cp311-win_amd64.whl (2.7 MB)\n",
      "Collecting dm-tree (from keras>=2.0.0->mtcnn)\n",
      "  Downloading dm_tree-0.1.8-cp311-cp311-win_amd64.whl (101 kB)\n",
      "                                              0.0/101.3 kB ? eta -:--:--\n",
      "     -------------------------------------- 101.3/101.3 kB 6.1 MB/s eta 0:00:00\n",
      "Collecting markdown-it-py>=2.2.0 (from rich->keras>=2.0.0->mtcnn)\n",
      "  Downloading markdown_it_py-3.0.0-py3-none-any.whl (87 kB)\n",
      "                                              0.0/87.5 kB ? eta -:--:--\n",
      "     ---------------------------------------- 87.5/87.5 kB 5.2 MB/s eta 0:00:00\n",
      "Requirement already satisfied: pygments<3.0.0,>=2.13.0 in c:\\users\\kumaropiyush\\appdata\\roaming\\python\\python311\\site-packages (from rich->keras>=2.0.0->mtcnn) (2.17.2)\n",
      "Collecting mdurl~=0.1 (from markdown-it-py>=2.2.0->rich->keras>=2.0.0->mtcnn)\n",
      "  Downloading mdurl-0.1.2-py3-none-any.whl (10.0 kB)\n",
      "Installing collected packages: namex, dm-tree, opencv-python, mdurl, h5py, absl-py, markdown-it-py, rich, keras, mtcnn\n"
     ]
    },
    {
     "name": "stderr",
     "output_type": "stream",
     "text": [
      "  WARNING: Failed to write executable - trying to use .deleteme logic\n",
      "ERROR: Could not install packages due to an OSError: [WinError 2] The system cannot find the file specified: 'C:\\\\Python311\\\\Scripts\\\\markdown-it.exe' -> 'C:\\\\Python311\\\\Scripts\\\\markdown-it.exe.deleteme'\n",
      "\n",
      "\n",
      "[notice] A new release of pip is available: 23.1.2 -> 23.3.2\n",
      "[notice] To update, run: python.exe -m pip install --upgrade pip\n"
     ]
    }
   ],
   "source": [
    "!pip install scikit-learn\n",
    "!pip install mtcnn"
   ]
  },
  {
   "cell_type": "code",
   "execution_count": 10,
   "id": "f1692996-d155-4d16-9f7d-d148cd54a07d",
   "metadata": {},
   "outputs": [
    {
     "ename": "NameError",
     "evalue": "name 'MTCNN' is not defined",
     "output_type": "error",
     "traceback": [
      "\u001b[1;31m---------------------------------------------------------------------------\u001b[0m",
      "\u001b[1;31mNameError\u001b[0m                                 Traceback (most recent call last)",
      "Cell \u001b[1;32mIn[10], line 43\u001b[0m\n\u001b[0;32m     37\u001b[0m             \u001b[38;5;28mself\u001b[39m\u001b[38;5;241m.\u001b[39mY\u001b[38;5;241m.\u001b[39mextend(labels)\n\u001b[0;32m     38\u001b[0m         \u001b[38;5;28;01mreturn\u001b[39;00m np\u001b[38;5;241m.\u001b[39masarray(\u001b[38;5;28mself\u001b[39m\u001b[38;5;241m.\u001b[39mX), np\u001b[38;5;241m.\u001b[39masarray(\u001b[38;5;28mself\u001b[39m\u001b[38;5;241m.\u001b[39mY)\n\u001b[1;32m---> 43\u001b[0m faceloading \u001b[38;5;241m=\u001b[39m \u001b[43mFaceRecognition\u001b[49m\u001b[43m(\u001b[49m\u001b[38;5;124;43m\"\u001b[39;49m\u001b[38;5;124;43m./datasets\u001b[39;49m\u001b[38;5;124;43m\"\u001b[39;49m\u001b[43m)\u001b[49m\n\u001b[0;32m     44\u001b[0m X,Y \u001b[38;5;241m=\u001b[39mfaceloading\u001b[38;5;241m.\u001b[39mload_classes()\n",
      "Cell \u001b[1;32mIn[10], line 7\u001b[0m, in \u001b[0;36mFaceRecognition.__init__\u001b[1;34m(self, directory)\u001b[0m\n\u001b[0;32m      5\u001b[0m \u001b[38;5;28mself\u001b[39m\u001b[38;5;241m.\u001b[39mX \u001b[38;5;241m=\u001b[39m []\n\u001b[0;32m      6\u001b[0m \u001b[38;5;28mself\u001b[39m\u001b[38;5;241m.\u001b[39mY \u001b[38;5;241m=\u001b[39m []\n\u001b[1;32m----> 7\u001b[0m \u001b[38;5;28mself\u001b[39m\u001b[38;5;241m.\u001b[39mdetector \u001b[38;5;241m=\u001b[39m \u001b[43mMTCNN\u001b[49m()\n",
      "\u001b[1;31mNameError\u001b[0m: name 'MTCNN' is not defined"
     ]
    }
   ],
   "source": [
    "class FaceRecognition:\n",
    "    def __init__(self,directory):\n",
    "        self.directory = directory\n",
    "        self.targetSize = (160,160)\n",
    "        self.X = []\n",
    "        self.Y = []\n",
    "        self.detector = MTCNN()\n",
    "\n",
    "    def extract_face_dim(self,filename):\n",
    "        img = cv2.imread(filename)\n",
    "        img = cv2.cvtColor(img,cv2.COLOR_BGR2RGB)\n",
    "        x,y,w,h = self.detector.detect_faces(img)[0]['box']\n",
    "        x,y = abs(x),abs(y)\n",
    "        face = img[y:y+h,x:x+w]\n",
    "        face_arr = cv2.resize(face,self.targetSize)\n",
    "        return face_arr\n",
    "    \n",
    "    def load_faces(self,dir):\n",
    "        Faces = []\n",
    "        for img_name in os.listdir(dir):\n",
    "            try:\n",
    "                path = dir + img_name\n",
    "                single_face = self.extract_face_dim(path)\n",
    "                Faces.append(single_face)\n",
    "            except Exception as e:\n",
    "                print(\"Error while processing image : \",img_name,\"\\n\",e)\n",
    "\n",
    "        return Faces\n",
    "    \n",
    "    def load_classes(self):\n",
    "        for sub_dir  in os.listdir(self.directory):\n",
    "            path = self.directory + '/' +sub_dir + '/'\n",
    "            Faces = self.load_faces(path)\n",
    "            labels = [sub_dir for _ in range(len(Faces))]\n",
    "            print(f\"Loaded Successfully: {len(labels)}\")\n",
    "            self.X.extend(Faces)\n",
    "            self.Y.extend(labels)\n",
    "        return np.asarray(self.X), np.asarray(self.Y)\n",
    "    \n",
    "\n",
    "\n",
    "\n",
    "faceloading = FaceRecognition(\"datasets\")\n",
    "X,Y =faceloading.load_classes()"
   ]
  },
  {
   "cell_type": "code",
   "execution_count": null,
   "id": "985b2a35-6b54-42cc-b95f-ef1076c8f178",
   "metadata": {},
   "outputs": [],
   "source": []
  }
 ],
 "metadata": {
  "kernelspec": {
   "display_name": "Python 3 (ipykernel)",
   "language": "python",
   "name": "python3"
  },
  "language_info": {
   "codemirror_mode": {
    "name": "ipython",
    "version": 3
   },
   "file_extension": ".py",
   "mimetype": "text/x-python",
   "name": "python",
   "nbconvert_exporter": "python",
   "pygments_lexer": "ipython3",
   "version": "3.11.4"
  }
 },
 "nbformat": 4,
 "nbformat_minor": 5
}
